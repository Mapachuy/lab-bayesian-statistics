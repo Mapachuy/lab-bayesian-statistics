{
 "cells": [
  {
   "cell_type": "markdown",
   "metadata": {},
   "source": [
    "# Intro to Bayesian Statistics Lab\n",
    "\n",
    "Complete the following set of exercises to solidify your knowledge of Bayesian statistics and Bayesian data analysis."
   ]
  },
  {
   "cell_type": "code",
   "execution_count": 1,
   "metadata": {},
   "outputs": [],
   "source": [
    "import pandas as pd\n",
    "import numpy as np\n",
    "import matplotlib.pyplot as plt"
   ]
  },
  {
   "cell_type": "code",
   "execution_count": 2,
   "metadata": {},
   "outputs": [],
   "source": [
    "# P(A|B) = P(A)*P(B|A) / P(B) \n",
    "# :. P(B) = P(A)*P(B|A) / P(A|B) \n",
    "# P(A|B) = P(B|A)*P(A)*P(B)\n",
    "\n",
    "def valles(aprioris, likelihoods):\n",
    "    # P(A|B1)P(B1) + ... + P(A|Bn)P(Bn)  --> Denominador == Constante de normalización\n",
    "    \n",
    "    const_normalizacion = sum(np.multiply(aprioris, likelihoods))\n",
    "    aposteriori = np.divide(np.multiply(aprioris, likelihoods), const_normalizacion)\n",
    "    return aposteriori"
   ]
  },
  {
   "cell_type": "markdown",
   "metadata": {},
   "source": [
    "## 1. Cookie Problem\n",
    "\n",
    "Suppose we have two bowls of cookies. Bowl 1 contains 30 vanilla cookies and 10 chocolate cookies. Bowl 2 contains 20 of each. You randomly pick one cookie out of one of the bowls, and it is vanilla. Use Bayes Theorem to calculate the probability that the vanilla cookie you picked came from Bowl 1?"
   ]
  },
  {
   "cell_type": "code",
   "execution_count": 3,
   "metadata": {},
   "outputs": [
    {
     "name": "stdout",
     "output_type": "stream",
     "text": [
      "La probabilidad de que la galleta de vainilla venga del bowl 1, es: 60.0%\n"
     ]
    }
   ],
   "source": [
    "apriori_cookies =  [1/2, 1/2]    # Tenemos dos bowls, 50/50\n",
    "likelihoods_cookies = [30/40, 20/40]    # 30 de vainilla en el bowl 1 y 20 en el bowl 2\n",
    "aposteriori_cookies = valles(apriori_cookies, likelihoods_cookies)\n",
    "print(f'La probabilidad de que la galleta de vainilla venga del bowl 1, es: {aposteriori_cookies[0]*100}%')"
   ]
  },
  {
   "cell_type": "markdown",
   "metadata": {},
   "source": [
    "What is the probability that it came from Bowl 2?"
   ]
  },
  {
   "cell_type": "code",
   "execution_count": 4,
   "metadata": {},
   "outputs": [
    {
     "name": "stdout",
     "output_type": "stream",
     "text": [
      "La probabilidad de que la galleta de vainilla venga del bowl 2, es: 40.0%\n"
     ]
    }
   ],
   "source": [
    "print(f'La probabilidad de que la galleta de vainilla venga del bowl 2, es: {aposteriori_cookies[1]*100}%')"
   ]
  },
  {
   "cell_type": "markdown",
   "metadata": {},
   "source": [
    "What if the cookie you had picked was chocolate? What are the probabilities that the chocolate cookie came from Bowl 1 and Bowl 2 respectively?"
   ]
  },
  {
   "cell_type": "code",
   "execution_count": 5,
   "metadata": {},
   "outputs": [
    {
     "name": "stdout",
     "output_type": "stream",
     "text": [
      "La probabilidad de que la galleta de chocolate venga del bowl 1, es: 33.33333333333333%\n",
      "La probabilidad de que la galleta de chocolate venga del bowl 2, es: 66.66666666666666%\n"
     ]
    }
   ],
   "source": [
    "apriori_cookies_choco =  [1/2, 1/2]    # Tenemos dos bowls, 50/50\n",
    "likelihoods_cookies_choco = [10/40, 20/40]    # 10 de chocolate en el bowl 1 y 20 en el bowl 2\n",
    "aposteriori_cookies_choco = valles(apriori_cookies_choco, likelihoods_cookies_choco)\n",
    "print(f'La probabilidad de que la galleta de chocolate venga del bowl 1, es: {aposteriori_cookies_choco[0]*100}%')\n",
    "print(f'La probabilidad de que la galleta de chocolate venga del bowl 2, es: {aposteriori_cookies_choco[1]*100}%')"
   ]
  },
  {
   "cell_type": "markdown",
   "metadata": {},
   "source": [
    "## 2. Candy Problem\n",
    "\n",
    "Suppose you have two bags of candies:\n",
    "\n",
    "- In Bag 1, the mix of colors is:\n",
    "    - Brown - 30%\n",
    "    - Yellow - 20%\n",
    "    - Red - 20%\n",
    "    - Green - 10%\n",
    "    - Orange - 10%\n",
    "    - Tan - 10%\n",
    "    \n",
    "- In Bag 2, the mix of colors is:\n",
    "    - Blue - 24%\n",
    "    - Green - 20%\n",
    "    - Orange - 16%\n",
    "    - Yellow - 14%\n",
    "    - Red - 13%\n",
    "    - Brown - 13%\n",
    "    \n",
    "Not knowing which bag is which, you randomly draw one candy from each bag. One is yellow and one is green. What is the probability that the yellow one came from the Bag 1?\n",
    "\n",
    "*Hint: For the likelihoods, you will need to multiply the probabilities of drawing yellow from one bag and green from the other bag and vice versa.*"
   ]
  },
  {
   "cell_type": "code",
   "execution_count": 6,
   "metadata": {},
   "outputs": [],
   "source": [
    "aprioris = [0.5, 0.5]\n",
    "# Primer escenario: M&M Amarillo Bolsa 1 y M&M Verde Bolsa 2\n",
    "# Segundo escenario: M&M Amarillo Bolsa 2 y M&M Verde Bolsa 1\n",
    "\n",
    "likelihoods = [0.2 * 0.2, 0.14 * 0.1]\n",
    "probabilidades = valles(aprioris, likelihoods)"
   ]
  },
  {
   "cell_type": "markdown",
   "metadata": {},
   "source": [
    "What is the probability that the yellow candy came from Bag 2?"
   ]
  },
  {
   "cell_type": "code",
   "execution_count": 7,
   "metadata": {},
   "outputs": [
    {
     "name": "stdout",
     "output_type": "stream",
     "text": [
      "Probabilidad de Amarillo bolsa 2:  0.25925925925925924\n"
     ]
    }
   ],
   "source": [
    "print(f'Probabilidad de Amarillo bolsa 2:  {probabilidades[1]}')"
   ]
  },
  {
   "cell_type": "markdown",
   "metadata": {},
   "source": [
    "What are the probabilities that the green one came from Bag 1 and Bag 2 respectively?"
   ]
  },
  {
   "cell_type": "code",
   "execution_count": 8,
   "metadata": {},
   "outputs": [
    {
     "name": "stdout",
     "output_type": "stream",
     "text": [
      "Probabilidad de Verde bolsa 1:  0.25925925925925924\n",
      " Y la probabilidad de que sea Verde de la Bolsa 2 es: 0.7407407407407408\n"
     ]
    }
   ],
   "source": [
    "print(f'Probabilidad de Verde bolsa 1:  {probabilidades[1]}\\n Y la probabilidad de que sea Verde de la Bolsa 2 es: {probabilidades[0]}')"
   ]
  },
  {
   "cell_type": "markdown",
   "metadata": {},
   "source": [
    "## 3. Monty Hall Problem\n",
    "\n",
    "Suppose you are a contestant on the popular game show *Let's Make a Deal*. The host of the show (Monty Hall) presents you with three doors - Door A, Door B, and Door C. He tells you that there is a sports car behind one of them and if you choose the correct one, you win the car!\n",
    "\n",
    "You select Door A, but then Monty makes things a little more interesting. He opens Door B to reveal that there is no sports car behind it and asks you if you would like to stick with your choice of Door A or switch your choice to Door C. Given this new information, what are the probabilities of you winning the car if you stick with Door A versus if you switch to Door C?"
   ]
  },
  {
   "cell_type": "code",
   "execution_count": 9,
   "metadata": {},
   "outputs": [
    {
     "name": "stdout",
     "output_type": "stream",
     "text": [
      "Cambio a la puerta C, ya que la probabilidad de encontrar el auto ahí es de 66.66666666666666%\n"
     ]
    }
   ],
   "source": [
    "apriori_doors = [1/3, 1/3, 1/3]    # La probabilidad de elegir una de las tres puertas, antes de cualquier cambio, es la misma para todas, es decir, 1/3\n",
    "likelihoods_doors = [1/2, 0, 1]    # Suponiendo que elegimos puerta A, Si el auto está en A, la probabilidad de que elija B o C es 1/2, dado que el auto no está en B, probabilidad de no encontrar el auto ahí es P=1; \n",
    "                                   # Si el auto está en B, no hay probabilidad de que abra la B, P=0; \n",
    "                                   # Si está en C, es probable que abra la B, con probabilidad de no encontrar el carro ahí es P=1\n",
    "probabilities_doors = valles(apriori_doors, likelihoods_doors)\n",
    "if probabilities_doors[0] >= probabilities_doors[2]:\n",
    "    print(f'Me quedo con la puerta A, ya que su probabilidad de que esté ahí el auto es de {probabilities_doors[0]*100}%')\n",
    "else:\n",
    "    print(f'Cambio a la puerta C, ya que la probabilidad de encontrar el auto ahí es de {probabilities_doors[2]*100}%')"
   ]
  },
  {
   "cell_type": "markdown",
   "metadata": {},
   "source": [
    "## 4. Bayesian Analysis \n",
    "\n",
    "Suppose you work for a landscaping company, and they want to advertise their service online. They create an ad and sit back waiting for the money to roll in. On the first day, the ad sends 100 visitors to the site and 14 of them sign up for landscaping services. Create a generative model to come up with the posterior distribution and produce a visualization of what the posterior distribution would look like given the observed data."
   ]
  },
  {
   "cell_type": "code",
   "execution_count": 10,
   "metadata": {},
   "outputs": [
    {
     "data": {
      "image/png": "[encoded data removed]",
      "text/plain": [
       "<Figure size 432x288 with 1 Axes>"
      ]
     },
     "metadata": {
      "needs_background": "light"
     },
     "output_type": "display_data"
    }
   ],
   "source": [
    "# A este problema no le entendimos del todo, de cualquier forma trataremos de documentar lo que se tomó desde la learning\n",
    "\n",
    "%matplotlib inline\n",
    "\n",
    "n_draws = 100000\n",
    "prior = pd.Series(np.random.uniform(0, 1, size=n_draws))   #. Se setean los apriori\n",
    "\n",
    "prior.hist()\n",
    "plt.show()"
   ]
  },
  {
   "cell_type": "code",
   "execution_count": 11,
   "metadata": {},
   "outputs": [],
   "source": [
    "observed = 14   # Estos son los que se vuelven usuarios\n",
    "\n",
    "def generative_model(param):\n",
    "    result = np.random.binomial(100, param)\n",
    "    return result\n",
    "\n",
    "# Se escribe el modelo generativo para encontrar los aposteriori"
   ]
  },
  {
   "cell_type": "markdown",
   "metadata": {},
   "source": [
    "Produce a set of descriptive statistics for the posterior distribution."
   ]
  },
  {
   "cell_type": "code",
   "execution_count": 12,
   "metadata": {},
   "outputs": [
    {
     "data": {
      "image/png": "[encoded data removed]",
      "text/plain": [
       "<Figure size 432x288 with 1 Axes>"
      ]
     },
     "metadata": {
      "needs_background": "light"
     },
     "output_type": "display_data"
    }
   ],
   "source": [
    "sim_data = list()\n",
    "\n",
    "for p in prior:\n",
    "    sim_data.append(generative_model(p))\n",
    "\n",
    "posterior = prior[list(map(lambda x: x == observed, sim_data))]\n",
    "posterior.hist()\n",
    "plt.show()"
   ]
  },
  {
   "cell_type": "markdown",
   "metadata": {},
   "source": [
    "What is the 90% credible interval range?"
   ]
  },
  {
   "cell_type": "code",
   "execution_count": 13,
   "metadata": {},
   "outputs": [
    {
     "name": "stdout",
     "output_type": "stream",
     "text": [
      "0.19175599907912144\n"
     ]
    }
   ],
   "source": [
    "print(posterior.quantile(.90))"
   ]
  },
  {
   "cell_type": "markdown",
   "metadata": {},
   "source": [
    "What is the Maximum Likelihood Estimate?"
   ]
  },
  {
   "cell_type": "code",
   "execution_count": 14,
   "metadata": {},
   "outputs": [
    {
     "name": "stdout",
     "output_type": "stream",
     "text": [
      "Maximum Likelihood Estimate:  0.15 | 0.12828601472134596\n"
     ]
    }
   ],
   "source": [
    "rounded = posterior.round(2)\n",
    "mode = rounded.mode()[0]\n",
    "probability = list(rounded).count(mode)/len(rounded)\n",
    "print('Maximum Likelihood Estimate: ', mode, '|',probability)"
   ]
  },
  {
   "cell_type": "code",
   "execution_count": null,
   "metadata": {},
   "outputs": [],
   "source": []
  }
 ],
 "metadata": {
  "kernelspec": {
   "display_name": "Python 3",
   "language": "python",
   "name": "python3"
  },
  "language_info": {
   "codemirror_mode": {
    "name": "ipython",
    "version": 3
   },
   "file_extension": ".py",
   "mimetype": "text/x-python",
   "name": "python",
   "nbconvert_exporter": "python",
   "pygments_lexer": "ipython3",
   "version": "3.7.6"
  }
 },
 "nbformat": 4,
 "nbformat_minor": 4
}
